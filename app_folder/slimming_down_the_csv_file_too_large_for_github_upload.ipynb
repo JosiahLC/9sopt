{
 "cells": [
  {
   "cell_type": "code",
   "execution_count": 1,
   "metadata": {},
   "outputs": [],
   "source": [
    "import pandas as pd\n",
    "df = pd.read_csv('assets/tracks_features.csv')\n",
    "df = df.sample(n=200000)\n",
    "df.to_csv('assets/smaller_tracks_features.csv')"
   ]
  }
 ],
 "metadata": {
  "interpreter": {
   "hash": "afc41c8be831909fe2f9bb2e2ee24aa4507cc80cabf434fb2c868096b5da0482"
  },
  "kernelspec": {
   "display_name": "Python 3.9.0 64-bit ('project-folder-o_hQuI_T': pipenv)",
   "name": "python3"
  },
  "language_info": {
   "codemirror_mode": {
    "name": "ipython",
    "version": 3
   },
   "file_extension": ".py",
   "mimetype": "text/x-python",
   "name": "python",
   "nbconvert_exporter": "python",
   "pygments_lexer": "ipython3",
   "version": "3.9.0"
  },
  "orig_nbformat": 4
 },
 "nbformat": 4,
 "nbformat_minor": 2
}
